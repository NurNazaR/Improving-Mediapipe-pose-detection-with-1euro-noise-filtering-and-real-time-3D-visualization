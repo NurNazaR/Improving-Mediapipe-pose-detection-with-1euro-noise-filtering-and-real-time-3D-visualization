{
 "cells": [
  {
   "cell_type": "code",
   "execution_count": 12,
   "metadata": {},
   "outputs": [],
   "source": [
    "import cv2\n",
    "import mediapipe as mp\n",
    "import numpy as np\n",
    "from mediapipe import solutions\n",
    "from mediapipe.framework.formats import landmark_pb2\n",
    "mp_drawing = mp.solutions.drawing_utils\n",
    "mp_pose = mp.solutions.pose"
   ]
  },
  {
   "cell_type": "code",
   "execution_count": 13,
   "metadata": {},
   "outputs": [],
   "source": [
    "model_path = \"pose_landmarker_full.task\""
   ]
  },
  {
   "cell_type": "markdown",
   "metadata": {},
   "source": [
    "# Improved real time body pose detection with 1euro-noise-filtering"
   ]
  },
  {
   "cell_type": "markdown",
   "metadata": {},
   "source": [
    "## Implementing 1euro-noise-filtering algo"
   ]
  },
  {
   "cell_type": "code",
   "execution_count": 14,
   "metadata": {},
   "outputs": [],
   "source": [
    "import numpy as np\n",
    "from time import time\n",
    "\n",
    "def smoothing_factor(t_e, cutoff):\n",
    "    r = 2 * np.pi * cutoff * t_e\n",
    "    return r / (r + 1)\n",
    "\n",
    "\n",
    "def exponential_smoothing(a, x, x_prev):\n",
    "    return a * x + (1 - a) * x_prev\n",
    "\n",
    "\n",
    "class OneEuroFilter:\n",
    "    def __init__(self, x0, dx0=0.0, min_cutoff=1.0, beta=0.0,\n",
    "                 d_cutoff=1.0):\n",
    "        \"\"\"Initialize the one euro filter.\"\"\"\n",
    "        # The parameters.\n",
    "        self.data_shape = x0.shape\n",
    "        self.min_cutoff = np.full(x0.shape, min_cutoff)\n",
    "        self.beta = np.full(x0.shape, beta)\n",
    "        self.d_cutoff = np.full(x0.shape, d_cutoff)\n",
    "        # Previous values.\n",
    "        self.x_prev = x0.astype(np.float64)\n",
    "        self.dx_prev = np.full(x0.shape, dx0)\n",
    "        self.t_prev = time()\n",
    "\n",
    "    def __call__(self, x):\n",
    "        \"\"\"Compute the filtered signal.\"\"\"\n",
    "        assert x.shape == self.data_shape\n",
    "\n",
    "        t = time()\n",
    "        t_e = t - self.t_prev\n",
    "        t_e = np.full(x.shape, t_e)\n",
    "\n",
    "        # The filtered derivative of the signal.\n",
    "        a_d = smoothing_factor(t_e, self.d_cutoff)\n",
    "        dx = (x - self.x_prev) / t_e\n",
    "        dx_hat = exponential_smoothing(a_d, dx, self.dx_prev)\n",
    "\n",
    "        # The filtered signal.\n",
    "        cutoff = self.min_cutoff + self.beta * np.abs(dx_hat)\n",
    "        a = smoothing_factor(t_e, cutoff)\n",
    "        x_hat = exponential_smoothing(a, x, self.x_prev)\n",
    "\n",
    "        # Memorize the previous values.\n",
    "        self.x_prev = x_hat\n",
    "        self.dx_prev = dx_hat\n",
    "        self.t_prev = t\n",
    "\n",
    "        return x_hat"
   ]
  },
  {
   "cell_type": "markdown",
   "metadata": {},
   "source": [
    "## Function to draw body landmarks"
   ]
  },
  {
   "cell_type": "code",
   "execution_count": 15,
   "metadata": {},
   "outputs": [],
   "source": [
    "def draw_landmarks_on_image(rgb_image, detection_result):\n",
    "  pose_landmarks_list = detection_result.pose_landmarks\n",
    "  annotated_image = np.copy(rgb_image)\n",
    "\n",
    "  # Loop through the detected poses to visualize.\n",
    "  for idx in range(len(pose_landmarks_list)):\n",
    "    pose_landmarks = pose_landmarks_list[idx]\n",
    "    # Draw the pose landmarks.\n",
    "    pose_landmarks_proto = landmark_pb2.NormalizedLandmarkList()\n",
    "    pose_landmarks_proto.landmark.extend([\n",
    "      landmark_pb2.NormalizedLandmark(x=landmark.x, y=landmark.y, z=landmark.z) for landmark in pose_landmarks\n",
    "    ])\n",
    "    solutions.drawing_utils.draw_landmarks(\n",
    "      annotated_image,\n",
    "      pose_landmarks_proto,\n",
    "      solutions.pose.POSE_CONNECTIONS,\n",
    "      solutions.drawing_styles.get_default_pose_landmarks_style())\n",
    "  return annotated_image"
   ]
  },
  {
   "cell_type": "markdown",
   "metadata": {},
   "source": [
    "## Rea-time test: body pose detection with 1euro-noise-filtering"
   ]
  },
  {
   "cell_type": "code",
   "execution_count": 16,
   "metadata": {},
   "outputs": [
    {
     "name": "stderr",
     "output_type": "stream",
     "text": [
      "I0000 00:00:1715165000.438995       1 gl_context.cc:344] GL version: 2.1 (2.1 Metal - 83.1), renderer: Apple M2\n"
     ]
    },
    {
     "ename": "KeyboardInterrupt",
     "evalue": "",
     "output_type": "error",
     "traceback": [
      "\u001b[0;31m---------------------------------------------------------------------------\u001b[0m",
      "\u001b[0;31mKeyboardInterrupt\u001b[0m                         Traceback (most recent call last)",
      "Cell \u001b[0;32mIn[16], line 14\u001b[0m\n\u001b[1;32m     12\u001b[0m init \u001b[38;5;241m=\u001b[39m \u001b[38;5;28;01mTrue\u001b[39;00m\n\u001b[1;32m     13\u001b[0m \u001b[38;5;28;01mwhile\u001b[39;00m cap\u001b[38;5;241m.\u001b[39misOpened():\n\u001b[0;32m---> 14\u001b[0m     ret, frame \u001b[38;5;241m=\u001b[39m \u001b[43mcap\u001b[49m\u001b[38;5;241;43m.\u001b[39;49m\u001b[43mread\u001b[49m\u001b[43m(\u001b[49m\u001b[43m)\u001b[49m\n\u001b[1;32m     15\u001b[0m     frame \u001b[38;5;241m=\u001b[39m cv2\u001b[38;5;241m.\u001b[39mflip(frame, \u001b[38;5;241m1\u001b[39m)\n\u001b[1;32m     16\u001b[0m     \u001b[38;5;66;03m# Recolor image to RGB\u001b[39;00m\n",
      "\u001b[0;31mKeyboardInterrupt\u001b[0m: "
     ]
    }
   ],
   "source": [
    "BaseOptions = mp.tasks.BaseOptions\n",
    "PoseLandmarker = mp.tasks.vision.PoseLandmarker\n",
    "PoseLandmarkerOptions = mp.tasks.vision.PoseLandmarkerOptions\n",
    "VisionRunningMode = mp.tasks.vision.RunningMode\n",
    "\n",
    "options = PoseLandmarkerOptions(\n",
    "    base_options=BaseOptions(model_asset_path=model_path),\n",
    "    running_mode=VisionRunningMode.IMAGE)\n",
    "\n",
    "cap = cv2.VideoCapture(0)\n",
    "with PoseLandmarker.create_from_options(options) as pose:\n",
    "    init = True\n",
    "    while cap.isOpened():\n",
    "        ret, frame = cap.read()\n",
    "        frame = cv2.flip(frame, 1)\n",
    "        # Recolor image to RGB\n",
    "        image = cv2.cvtColor(frame, cv2.COLOR_BGR2RGB)\n",
    "        image.flags.writeable = False\n",
    "      \n",
    "        # Make detection\n",
    "        mp_image = mp.Image(image_format=mp.ImageFormat.SRGB, data=image)\n",
    "        results = pose.detect(mp_image)\n",
    "        \n",
    "        if len(results.pose_landmarks) != 0:\n",
    "            coords = np.array([[joint.x, joint.y, joint.z] for joint in results.pose_landmarks[0]])\n",
    "            if init == True:\n",
    "                coords_hat = coords.copy()\n",
    "                \n",
    "                # The filtered signal\n",
    "                min_cutoff = 1\n",
    "                beta = 0\n",
    "                one_euro_filter = OneEuroFilter(\n",
    "                    coords,\n",
    "                    min_cutoff=min_cutoff,\n",
    "                    beta=beta)\n",
    "                init = False\n",
    "            else:\n",
    "                coords_hat = one_euro_filter(coords)\n",
    "                \n",
    "            for i in range(coords.shape[0]):\n",
    "                results.pose_landmarks[0][i].x = coords_hat[i][0]\n",
    "                results.pose_landmarks[0][i].y = coords_hat[i][1]\n",
    "                results.pose_landmarks[0][i].z = coords_hat[i][2]\n",
    "            \n",
    "            \n",
    "        # Recolor back to BGR\n",
    "        image.flags.writeable = True\n",
    "    \n",
    "        \n",
    "        annotated_image = draw_landmarks_on_image(image, results)\n",
    "        image = cv2.cvtColor(annotated_image, cv2.COLOR_RGB2BGR)\n",
    "        \n",
    "        cv2.imshow('Mediapipe Feed', image)\n",
    "        \n",
    "\n",
    "        if cv2.waitKey(10) & 0xFF == ord('q'):\n",
    "            break\n",
    "\n",
    "    cap.release()\n",
    "    cv2.destroyAllWindows()\n",
    "    cv2.waitKey(1)"
   ]
  },
  {
   "cell_type": "markdown",
   "metadata": {},
   "source": [
    "# 3D Visualization using Plotly library -> (Static not for real-time visualization)"
   ]
  },
  {
   "cell_type": "code",
   "execution_count": 17,
   "metadata": {},
   "outputs": [],
   "source": [
    "import matplotlib.pyplot as plt\n",
    "import pandas as pd\n",
    "import plotly.express as px\n",
    "import plotly.graph_objects as go"
   ]
  },
  {
   "cell_type": "code",
   "execution_count": 18,
   "metadata": {},
   "outputs": [],
   "source": [
    "_PRESENCE_THRESHOLD = 0\n",
    "_VISIBILITY_THRESHOLD = 0\n",
    "\n",
    "\n",
    "def plot_landmarks(\n",
    "    landmark_list,\n",
    "    connections=None,\n",
    "):\n",
    "    if not landmark_list:\n",
    "        return\n",
    "    plotted_landmarks = {}\n",
    "    for idx, landmark in enumerate(landmark_list):\n",
    "        if (\n",
    "            landmark.visibility < _VISIBILITY_THRESHOLD\n",
    "        ) or (\n",
    "            landmark.presence < _PRESENCE_THRESHOLD\n",
    "        ):\n",
    "            continue\n",
    "        plotted_landmarks[idx] = (-landmark.z, landmark.x, -landmark.y)\n",
    "    if connections:\n",
    "        out_cn = []\n",
    "        num_landmarks = len(landmark_list)\n",
    "        # Draws the connections if the start and end landmarks are both visible.\n",
    "        for connection in connections:\n",
    "            start_idx = connection[0]\n",
    "            end_idx = connection[1]\n",
    "            if not (0 <= start_idx < num_landmarks and 0 <= end_idx < num_landmarks):\n",
    "                raise ValueError(\n",
    "                    f\"Landmark index is out of range. Invalid connection \"\n",
    "                    f\"from landmark #{start_idx} to landmark #{end_idx}.\"\n",
    "                )\n",
    "            if start_idx in plotted_landmarks and end_idx in plotted_landmarks:\n",
    "                landmark_pair = [\n",
    "                    plotted_landmarks[start_idx],\n",
    "                    plotted_landmarks[end_idx],\n",
    "                ]\n",
    "                out_cn.append(\n",
    "                    dict(\n",
    "                        xs=[landmark_pair[0][0], landmark_pair[1][0]],\n",
    "                        ys=[landmark_pair[0][1], landmark_pair[1][1]],\n",
    "                        zs=[landmark_pair[0][2], landmark_pair[1][2]],\n",
    "                    )\n",
    "                )\n",
    "        cn2 = {\"xs\": [], \"ys\": [], \"zs\": []}\n",
    "        for pair in out_cn:\n",
    "            for k in pair.keys():\n",
    "                cn2[k].append(pair[k][0])\n",
    "                cn2[k].append(pair[k][1])\n",
    "                cn2[k].append(None)\n",
    "\n",
    "    df = pd.DataFrame(plotted_landmarks).T.rename(columns={0: \"z\", 1: \"x\", 2: \"y\"})\n",
    "    df[\"lm\"] = df.index.map(lambda s: mp_pose.PoseLandmark(s).name).values\n",
    "    fig = (\n",
    "        px.scatter_3d(df, x=\"z\", y=\"x\", z=\"y\", hover_name=\"lm\")\n",
    "        .update_traces(marker={\"color\": \"red\"})\n",
    "        .update_layout(\n",
    "            margin={\"l\": 0, \"r\": 0, \"t\": 0, \"b\": 0},\n",
    "            scene={\"camera\": {\"eye\": {\"x\": 2.1, \"y\": 0, \"z\": 0}}},\n",
    "        )\n",
    "    )\n",
    "    fig.add_traces(\n",
    "        [\n",
    "            go.Scatter3d(\n",
    "                x=cn2[\"xs\"],\n",
    "                y=cn2[\"ys\"],\n",
    "                z=cn2[\"zs\"],\n",
    "                mode=\"lines\",\n",
    "                line={\"color\": \"black\", \"width\": 5},\n",
    "                name=\"connections\",\n",
    "            )\n",
    "        ]\n",
    "    )\n",
    "\n",
    "    return fig"
   ]
  },
  {
   "cell_type": "code",
   "execution_count": 19,
   "metadata": {},
   "outputs": [
    {
     "name": "stderr",
     "output_type": "stream",
     "text": [
      "I0000 00:00:1715165012.473215       1 gl_context.cc:344] GL version: 2.1 (2.1 Metal - 83.1), renderer: Apple M2\n"
     ]
    }
   ],
   "source": [
    "# Initializing the Mediapipe poselandmarker\n",
    "BaseOptions = mp.tasks.BaseOptions\n",
    "PoseLandmarker = mp.tasks.vision.PoseLandmarker\n",
    "PoseLandmarkerOptions = mp.tasks.vision.PoseLandmarkerOptions\n",
    "VisionRunningMode = mp.tasks.vision.RunningMode\n",
    "\n",
    "options = PoseLandmarkerOptions(\n",
    "    base_options=BaseOptions(model_asset_path=model_path),\n",
    "    running_mode=VisionRunningMode.IMAGE)\n",
    "\n",
    "pose = PoseLandmarker.create_from_options(options)"
   ]
  },
  {
   "cell_type": "code",
   "execution_count": 20,
   "metadata": {},
   "outputs": [],
   "source": [
    "image = cv2.imread(\"images_and_videos/image.png\")\n",
    "image = cv2.cvtColor(image, cv2.COLOR_BGR2RGB)\n",
    "mp_image = mp.Image(image_format=mp.ImageFormat.SRGB, data=image)\n",
    "results = pose.detect(mp_image)"
   ]
  },
  {
   "cell_type": "code",
   "execution_count": 21,
   "metadata": {},
   "outputs": [
    {
     "data": {
      "text/plain": [
       "<matplotlib.image.AxesImage at 0x2ee5e2ad0>"
      ]
     },
     "execution_count": 21,
     "metadata": {},
     "output_type": "execute_result"
    },
    {
     "data": {
      "image/png": "[encoded data removed]",
      "text/plain": [
       "<Figure size 640x480 with 1 Axes>"
      ]
     },
     "metadata": {},
     "output_type": "display_data"
    }
   ],
   "source": [
    "plt.imshow(image)"
   ]
  },
  {
   "cell_type": "code",
   "execution_count": 22,
   "metadata": {},
   "outputs": [
    {
     "data": {
      "application/vnd.plotly.v1+json": {
       "config": {
        "plotlyServerURL": "https://plot.ly"
       },
       "data": [
        {
         "hovertemplate": "<b>%{hovertext}</b><br><br>z=%{x}<br>x=%{y}<br>y=%{z}<extra></extra>",
         "hovertext": [
          "NOSE",
          "LEFT_EYE_INNER",
          "LEFT_EYE",
          "LEFT_EYE_OUTER",
          "RIGHT_EYE_INNER",
          "RIGHT_EYE",
          "RIGHT_EYE_OUTER",
          "LEFT_EAR",
          "RIGHT_EAR",
          "MOUTH_LEFT",
          "MOUTH_RIGHT",
          "LEFT_SHOULDER",
          "RIGHT_SHOULDER",
          "LEFT_ELBOW",
          "RIGHT_ELBOW",
          "LEFT_WRIST",
          "RIGHT_WRIST",
          "LEFT_PINKY",
          "RIGHT_PINKY",
          "LEFT_INDEX",
          "RIGHT_INDEX",
          "LEFT_THUMB",
          "RIGHT_THUMB",
          "LEFT_HIP",
          "RIGHT_HIP",
          "LEFT_KNEE",
          "RIGHT_KNEE",
          "LEFT_ANKLE",
          "RIGHT_ANKLE",
          "LEFT_HEEL",
          "RIGHT_HEEL",
          "LEFT_FOOT_INDEX",
          "RIGHT_FOOT_INDEX"
         ],
         "legendgroup": "",
         "marker": {
          "color": "red",
          "symbol": "circle"
         },
         "mode": "markers",
         "name": "",
         "scene": "scene",
         "showlegend": false,
         "type": "scatter3d",
         "x": [
          0.015540838241577148,
          0.03533363342285156,
          0.03480243682861328,
          0.034943580627441406,
          0.0058307647705078125,
          0.006356000900268555,
          0.005320072174072266,
          0.07425618171691895,
          -0.04844999313354492,
          0.027216672897338867,
          -0.008985757827758789,
          0.1483815312385559,
          -0.16503548622131348,
          0.18180632591247559,
          -0.21321141719818115,
          0.17913126945495605,
          -0.17338049411773682,
          0.21327877044677734,
          -0.1880791187286377,
          0.18254756927490234,
          -0.14876747131347656,
          0.16527652740478516,
          -0.15555977821350098,
          0.09708023071289062,
          -0.0980229377746582,
          0.07017874717712402,
          -0.1129910796880722,
          0.04501771926879883,
          -0.1568441390991211,
          0.050356388092041016,
          -0.15677165985107422,
          0.11957597732543945,
          -0.10915660858154297
         ],
         "y": [
          -0.662790834903717,
          -0.6831022500991821,
          -0.6833789944648743,
          -0.6836151480674744,
          -0.6860806345939636,
          -0.686926007270813,
          -0.6883260011672974,
          -0.6101077198982239,
          -0.6394718289375305,
          -0.6183559894561768,
          -0.62388014793396,
          -0.45778724551200867,
          -0.4471099078655243,
          -0.45458900928497314,
          -0.42766135931015015,
          -0.48372939229011536,
          -0.43129390478134155,
          -0.5030941963195801,
          -0.45699459314346313,
          -0.5271055698394775,
          -0.4705010950565338,
          -0.49631190299987793,
          -0.4381377696990967,
          -0.008633454330265522,
          0.007933836430311203,
          0.35319191217422485,
          0.34807857871055603,
          0.7145205736160278,
          0.7088278532028198,
          0.7573881149291992,
          0.7505000829696655,
          0.7165708541870117,
          0.7190099954605103
         ],
         "z": [
          0.13845248520374298,
          0.16446876525878906,
          0.16487985849380493,
          0.1647370308637619,
          0.16592444479465485,
          0.16669486463069916,
          0.16678975522518158,
          0.23119258880615234,
          0.23539254069328308,
          0.15678036212921143,
          0.15724293887615204,
          0.16214826703071594,
          0.15815746784210205,
          -0.08368130028247833,
          -0.08618474751710892,
          -0.3111256957054138,
          -0.339405357837677,
          -0.3429161012172699,
          -0.35643064975738525,
          -0.3322213292121887,
          -0.3635557293891907,
          -0.31656768918037415,
          -0.3484555184841156,
          0.008603336289525032,
          -0.00839136727154255,
          -0.19532540440559387,
          -0.13988041877746582,
          -0.27697262167930603,
          -0.26195070147514343,
          -0.2892681658267975,
          -0.2868226170539856,
          -0.3923810124397278,
          -0.39506059885025024
         ]
        },
        {
         "line": {
          "color": "black",
          "width": 5
         },
         "mode": "lines",
         "name": "connections",
         "type": "scatter3d",
         "x": [
          0.17913126945495605,
          0.16527652740478516,
          null,
          -0.17338049411773682,
          -0.14876747131347656,
          null,
          -0.1880791187286377,
          -0.14876747131347656,
          null,
          0.034943580627441406,
          0.07425618171691895,
          null,
          -0.21321141719818115,
          -0.17338049411773682,
          null,
          0.09708023071289062,
          0.07017874717712402,
          null,
          -0.1568441390991211,
          -0.15677165985107422,
          null,
          0.1483815312385559,
          0.09708023071289062,
          null,
          0.04501771926879883,
          0.11957597732543945,
          null,
          0.005320072174072266,
          -0.04844999313354492,
          null,
          0.17913126945495605,
          0.21327877044677734,
          null,
          -0.0980229377746582,
          -0.1129910796880722,
          null,
          -0.17338049411773682,
          -0.15555977821350098,
          null,
          0.0058307647705078125,
          0.006356000900268555,
          null,
          0.006356000900268555,
          0.005320072174072266,
          null,
          0.050356388092041016,
          0.11957597732543945,
          null,
          -0.16503548622131348,
          -0.0980229377746582,
          null,
          0.09708023071289062,
          -0.0980229377746582,
          null,
          0.015540838241577148,
          0.03533363342285156,
          null,
          0.027216672897338867,
          -0.008985757827758789,
          null,
          0.03533363342285156,
          0.03480243682861328,
          null,
          0.015540838241577148,
          0.0058307647705078125,
          null,
          0.1483815312385559,
          0.18180632591247559,
          null,
          -0.15677165985107422,
          -0.10915660858154297,
          null,
          -0.1568441390991211,
          -0.10915660858154297,
          null,
          0.17913126945495605,
          0.18254756927490234,
          null,
          -0.17338049411773682,
          -0.1880791187286377,
          null,
          0.07017874717712402,
          0.04501771926879883,
          null,
          -0.1129910796880722,
          -0.1568441390991211,
          null,
          -0.16503548622131348,
          -0.21321141719818115,
          null,
          0.21327877044677734,
          0.18254756927490234,
          null,
          0.03480243682861328,
          0.034943580627441406,
          null,
          0.1483815312385559,
          -0.16503548622131348,
          null,
          0.04501771926879883,
          0.050356388092041016,
          null,
          0.18180632591247559,
          0.17913126945495605,
          null
         ],
         "y": [
          -0.48372939229011536,
          -0.49631190299987793,
          null,
          -0.43129390478134155,
          -0.4705010950565338,
          null,
          -0.45699459314346313,
          -0.4705010950565338,
          null,
          -0.6836151480674744,
          -0.6101077198982239,
          null,
          -0.42766135931015015,
          -0.43129390478134155,
          null,
          -0.008633454330265522,
          0.35319191217422485,
          null,
          0.7088278532028198,
          0.7505000829696655,
          null,
          -0.45778724551200867,
          -0.008633454330265522,
          null,
          0.7145205736160278,
          0.7165708541870117,
          null,
          -0.6883260011672974,
          -0.6394718289375305,
          null,
          -0.48372939229011536,
          -0.5030941963195801,
          null,
          0.007933836430311203,
          0.34807857871055603,
          null,
          -0.43129390478134155,
          -0.4381377696990967,
          null,
          -0.6860806345939636,
          -0.686926007270813,
          null,
          -0.686926007270813,
          -0.6883260011672974,
          null,
          0.7573881149291992,
          0.7165708541870117,
          null,
          -0.4471099078655243,
          0.007933836430311203,
          null,
          -0.008633454330265522,
          0.007933836430311203,
          null,
          -0.662790834903717,
          -0.6831022500991821,
          null,
          -0.6183559894561768,
          -0.62388014793396,
          null,
          -0.6831022500991821,
          -0.6833789944648743,
          null,
          -0.662790834903717,
          -0.6860806345939636,
          null,
          -0.45778724551200867,
          -0.45458900928497314,
          null,
          0.7505000829696655,
          0.7190099954605103,
          null,
          0.7088278532028198,
          0.7190099954605103,
          null,
          -0.48372939229011536,
          -0.5271055698394775,
          null,
          -0.43129390478134155,
          -0.45699459314346313,
          null,
          0.35319191217422485,
          0.7145205736160278,
          null,
          0.34807857871055603,
          0.7088278532028198,
          null,
          -0.4471099078655243,
          -0.42766135931015015,
          null,
          -0.5030941963195801,
          -0.5271055698394775,
          null,
          -0.6833789944648743,
          -0.6836151480674744,
          null,
          -0.45778724551200867,
          -0.4471099078655243,
          null,
          0.7145205736160278,
          0.7573881149291992,
          null,
          -0.45458900928497314,
          -0.48372939229011536,
          null
         ],
         "z": [
          -0.3111256957054138,
          -0.31656768918037415,
          null,
          -0.339405357837677,
          -0.3635557293891907,
          null,
          -0.35643064975738525,
          -0.3635557293891907,
          null,
          0.1647370308637619,
          0.23119258880615234,
          null,
          -0.08618474751710892,
          -0.339405357837677,
          null,
          0.008603336289525032,
          -0.19532540440559387,
          null,
          -0.26195070147514343,
          -0.2868226170539856,
          null,
          0.16214826703071594,
          0.008603336289525032,
          null,
          -0.27697262167930603,
          -0.3923810124397278,
          null,
          0.16678975522518158,
          0.23539254069328308,
          null,
          -0.3111256957054138,
          -0.3429161012172699,
          null,
          -0.00839136727154255,
          -0.13988041877746582,
          null,
          -0.339405357837677,
          -0.3484555184841156,
          null,
          0.16592444479465485,
          0.16669486463069916,
          null,
          0.16669486463069916,
          0.16678975522518158,
          null,
          -0.2892681658267975,
          -0.3923810124397278,
          null,
          0.15815746784210205,
          -0.00839136727154255,
          null,
          0.008603336289525032,
          -0.00839136727154255,
          null,
          0.13845248520374298,
          0.16446876525878906,
          null,
          0.15678036212921143,
          0.15724293887615204,
          null,
          0.16446876525878906,
          0.16487985849380493,
          null,
          0.13845248520374298,
          0.16592444479465485,
          null,
          0.16214826703071594,
          -0.08368130028247833,
          null,
          -0.2868226170539856,
          -0.39506059885025024,
          null,
          -0.26195070147514343,
          -0.39506059885025024,
          null,
          -0.3111256957054138,
          -0.3322213292121887,
          null,
          -0.339405357837677,
          -0.35643064975738525,
          null,
          -0.19532540440559387,
          -0.27697262167930603,
          null,
          -0.13988041877746582,
          -0.26195070147514343,
          null,
          0.15815746784210205,
          -0.08618474751710892,
          null,
          -0.3429161012172699,
          -0.3322213292121887,
          null,
          0.16487985849380493,
          0.1647370308637619,
          null,
          0.16214826703071594,
          0.15815746784210205,
          null,
          -0.27697262167930603,
          -0.2892681658267975,
          null,
          -0.08368130028247833,
          -0.3111256957054138,
          null
         ]
        }
       ],
       "layout": {
        "legend": {
         "tracegroupgap": 0
        },
        "margin": {
         "b": 0,
         "l": 0,
         "r": 0,
         "t": 0
        },
        "scene": {
         "camera": {
          "eye": {
           "x": 2.1,
           "y": 0,
           "z": 0
          }
         },
         "domain": {
          "x": [
           0,
           1
          ],
          "y": [
           0,
           1
          ]
         },
         "xaxis": {
          "title": {
           "text": "z"
          }
         },
         "yaxis": {
          "title": {
           "text": "x"
          }
         },
         "zaxis": {
          "title": {
           "text": "y"
          }
         }
        },
        "template": {
         "data": {
          "bar": [
           {
            "error_x": {
             "color": "#2a3f5f"
            },
            "error_y": {
             "color": "#2a3f5f"
            },
            "marker": {
             "line": {
              "color": "#E5ECF6",
              "width": 0.5
             },
             "pattern": {
              "fillmode": "overlay",
              "size": 10,
              "solidity": 0.2
             }
            },
            "type": "bar"
           }
          ],
          "barpolar": [
           {
            "marker": {
             "line": {
              "color": "#E5ECF6",
              "width": 0.5
             },
             "pattern": {
              "fillmode": "overlay",
              "size": 10,
              "solidity": 0.2
             }
            },
            "type": "barpolar"
           }
          ],
          "carpet": [
           {
            "aaxis": {
             "endlinecolor": "#2a3f5f",
             "gridcolor": "white",
             "linecolor": "white",
             "minorgridcolor": "white",
             "startlinecolor": "#2a3f5f"
            },
            "baxis": {
             "endlinecolor": "#2a3f5f",
             "gridcolor": "white",
             "linecolor": "white",
             "minorgridcolor": "white",
             "startlinecolor": "#2a3f5f"
            },
            "type": "carpet"
           }
          ],
          "choropleth": [
           {
            "colorbar": {
             "outlinewidth": 0,
             "ticks": ""
            },
            "type": "choropleth"
           }
          ],
          "contour": [
           {
            "colorbar": {
             "outlinewidth": 0,
             "ticks": ""
            },
            "colorscale": [
             [
              0,
              "#0d0887"
             ],
             [
              0.1111111111111111,
              "#46039f"
             ],
             [
              0.2222222222222222,
              "#7201a8"
             ],
             [
              0.3333333333333333,
              "#9c179e"
             ],
             [
              0.4444444444444444,
              "#bd3786"
             ],
             [
              0.5555555555555556,
              "#d8576b"
             ],
             [
              0.6666666666666666,
              "#ed7953"
             ],
             [
              0.7777777777777778,
              "#fb9f3a"
             ],
             [
              0.8888888888888888,
              "#fdca26"
             ],
             [
              1,
              "#f0f921"
             ]
            ],
            "type": "contour"
           }
          ],
          "contourcarpet": [
           {
            "colorbar": {
             "outlinewidth": 0,
             "ticks": ""
            },
            "type": "contourcarpet"
           }
          ],
          "heatmap": [
           {
            "colorbar": {
             "outlinewidth": 0,
             "ticks": ""
            },
            "colorscale": [
             [
              0,
              "#0d0887"
             ],
             [
              0.1111111111111111,
              "#46039f"
             ],
             [
              0.2222222222222222,
              "#7201a8"
             ],
             [
              0.3333333333333333,
              "#9c179e"
             ],
             [
              0.4444444444444444,
              "#bd3786"
             ],
             [
              0.5555555555555556,
              "#d8576b"
             ],
             [
              0.6666666666666666,
              "#ed7953"
             ],
             [
              0.7777777777777778,
              "#fb9f3a"
             ],
             [
              0.8888888888888888,
              "#fdca26"
             ],
             [
              1,
              "#f0f921"
             ]
            ],
            "type": "heatmap"
           }
          ],
          "heatmapgl": [
           {
            "colorbar": {
             "outlinewidth": 0,
             "ticks": ""
            },
            "colorscale": [
             [
              0,
              "#0d0887"
             ],
             [
              0.1111111111111111,
              "#46039f"
             ],
             [
              0.2222222222222222,
              "#7201a8"
             ],
             [
              0.3333333333333333,
              "#9c179e"
             ],
             [
              0.4444444444444444,
              "#bd3786"
             ],
             [
              0.5555555555555556,
              "#d8576b"
             ],
             [
              0.6666666666666666,
              "#ed7953"
             ],
             [
              0.7777777777777778,
              "#fb9f3a"
             ],
             [
              0.8888888888888888,
              "#fdca26"
             ],
             [
              1,
              "#f0f921"
             ]
            ],
            "type": "heatmapgl"
           }
          ],
          "histogram": [
           {
            "marker": {
             "pattern": {
              "fillmode": "overlay",
              "size": 10,
              "solidity": 0.2
             }
            },
            "type": "histogram"
           }
          ],
          "histogram2d": [
           {
            "colorbar": {
             "outlinewidth": 0,
             "ticks": ""
            },
            "colorscale": [
             [
              0,
              "#0d0887"
             ],
             [
              0.1111111111111111,
              "#46039f"
             ],
             [
              0.2222222222222222,
              "#7201a8"
             ],
             [
              0.3333333333333333,
              "#9c179e"
             ],
             [
              0.4444444444444444,
              "#bd3786"
             ],
             [
              0.5555555555555556,
              "#d8576b"
             ],
             [
              0.6666666666666666,
              "#ed7953"
             ],
             [
              0.7777777777777778,
              "#fb9f3a"
             ],
             [
              0.8888888888888888,
              "#fdca26"
             ],
             [
              1,
              "#f0f921"
             ]
            ],
            "type": "histogram2d"
           }
          ],
          "histogram2dcontour": [
           {
            "colorbar": {
             "outlinewidth": 0,
             "ticks": ""
            },
            "colorscale": [
             [
              0,
              "#0d0887"
             ],
             [
              0.1111111111111111,
              "#46039f"
             ],
             [
              0.2222222222222222,
              "#7201a8"
             ],
             [
              0.3333333333333333,
              "#9c179e"
             ],
             [
              0.4444444444444444,
              "#bd3786"
             ],
             [
              0.5555555555555556,
              "#d8576b"
             ],
             [
              0.6666666666666666,
              "#ed7953"
             ],
             [
              0.7777777777777778,
              "#fb9f3a"
             ],
             [
              0.8888888888888888,
              "#fdca26"
             ],
             [
              1,
              "#f0f921"
             ]
            ],
            "type": "histogram2dcontour"
           }
          ],
          "mesh3d": [
           {
            "colorbar": {
             "outlinewidth": 0,
             "ticks": ""
            },
            "type": "mesh3d"
           }
          ],
          "parcoords": [
           {
            "line": {
             "colorbar": {
              "outlinewidth": 0,
              "ticks": ""
             }
            },
            "type": "parcoords"
           }
          ],
          "pie": [
           {
            "automargin": true,
            "type": "pie"
           }
          ],
          "scatter": [
           {
            "fillpattern": {
             "fillmode": "overlay",
             "size": 10,
             "solidity": 0.2
            },
            "type": "scatter"
           }
          ],
          "scatter3d": [
           {
            "line": {
             "colorbar": {
              "outlinewidth": 0,
              "ticks": ""
             }
            },
            "marker": {
             "colorbar": {
              "outlinewidth": 0,
              "ticks": ""
             }
            },
            "type": "scatter3d"
           }
          ],
          "scattercarpet": [
           {
            "marker": {
             "colorbar": {
              "outlinewidth": 0,
              "ticks": ""
             }
            },
            "type": "scattercarpet"
           }
          ],
          "scattergeo": [
           {
            "marker": {
             "colorbar": {
              "outlinewidth": 0,
              "ticks": ""
             }
            },
            "type": "scattergeo"
           }
          ],
          "scattergl": [
           {
            "marker": {
             "colorbar": {
              "outlinewidth": 0,
              "ticks": ""
             }
            },
            "type": "scattergl"
           }
          ],
          "scattermapbox": [
           {
            "marker": {
             "colorbar": {
              "outlinewidth": 0,
              "ticks": ""
             }
            },
            "type": "scattermapbox"
           }
          ],
          "scatterpolar": [
           {
            "marker": {
             "colorbar": {
              "outlinewidth": 0,
              "ticks": ""
             }
            },
            "type": "scatterpolar"
           }
          ],
          "scatterpolargl": [
           {
            "marker": {
             "colorbar": {
              "outlinewidth": 0,
              "ticks": ""
             }
            },
            "type": "scatterpolargl"
           }
          ],
          "scatterternary": [
           {
            "marker": {
             "colorbar": {
              "outlinewidth": 0,
              "ticks": ""
             }
            },
            "type": "scatterternary"
           }
          ],
          "surface": [
           {
            "colorbar": {
             "outlinewidth": 0,
             "ticks": ""
            },
            "colorscale": [
             [
              0,
              "#0d0887"
             ],
             [
              0.1111111111111111,
              "#46039f"
             ],
             [
              0.2222222222222222,
              "#7201a8"
             ],
             [
              0.3333333333333333,
              "#9c179e"
             ],
             [
              0.4444444444444444,
              "#bd3786"
             ],
             [
              0.5555555555555556,
              "#d8576b"
             ],
             [
              0.6666666666666666,
              "#ed7953"
             ],
             [
              0.7777777777777778,
              "#fb9f3a"
             ],
             [
              0.8888888888888888,
              "#fdca26"
             ],
             [
              1,
              "#f0f921"
             ]
            ],
            "type": "surface"
           }
          ],
          "table": [
           {
            "cells": {
             "fill": {
              "color": "#EBF0F8"
             },
             "line": {
              "color": "white"
             }
            },
            "header": {
             "fill": {
              "color": "#C8D4E3"
             },
             "line": {
              "color": "white"
             }
            },
            "type": "table"
           }
          ]
         },
         "layout": {
          "annotationdefaults": {
           "arrowcolor": "#2a3f5f",
           "arrowhead": 0,
           "arrowwidth": 1
          },
          "autotypenumbers": "strict",
          "coloraxis": {
           "colorbar": {
            "outlinewidth": 0,
            "ticks": ""
           }
          },
          "colorscale": {
           "diverging": [
            [
             0,
             "#8e0152"
            ],
            [
             0.1,
             "#c51b7d"
            ],
            [
             0.2,
             "#de77ae"
            ],
            [
             0.3,
             "#f1b6da"
            ],
            [
             0.4,
             "#fde0ef"
            ],
            [
             0.5,
             "#f7f7f7"
            ],
            [
             0.6,
             "#e6f5d0"
            ],
            [
             0.7,
             "#b8e186"
            ],
            [
             0.8,
             "#7fbc41"
            ],
            [
             0.9,
             "#4d9221"
            ],
            [
             1,
             "#276419"
            ]
           ],
           "sequential": [
            [
             0,
             "#0d0887"
            ],
            [
             0.1111111111111111,
             "#46039f"
            ],
            [
             0.2222222222222222,
             "#7201a8"
            ],
            [
             0.3333333333333333,
             "#9c179e"
            ],
            [
             0.4444444444444444,
             "#bd3786"
            ],
            [
             0.5555555555555556,
             "#d8576b"
            ],
            [
             0.6666666666666666,
             "#ed7953"
            ],
            [
             0.7777777777777778,
             "#fb9f3a"
            ],
            [
             0.8888888888888888,
             "#fdca26"
            ],
            [
             1,
             "#f0f921"
            ]
           ],
           "sequentialminus": [
            [
             0,
             "#0d0887"
            ],
            [
             0.1111111111111111,
             "#46039f"
            ],
            [
             0.2222222222222222,
             "#7201a8"
            ],
            [
             0.3333333333333333,
             "#9c179e"
            ],
            [
             0.4444444444444444,
             "#bd3786"
            ],
            [
             0.5555555555555556,
             "#d8576b"
            ],
            [
             0.6666666666666666,
             "#ed7953"
            ],
            [
             0.7777777777777778,
             "#fb9f3a"
            ],
            [
             0.8888888888888888,
             "#fdca26"
            ],
            [
             1,
             "#f0f921"
            ]
           ]
          },
          "colorway": [
           "#636efa",
           "#EF553B",
           "#00cc96",
           "#ab63fa",
           "#FFA15A",
           "#19d3f3",
           "#FF6692",
           "#B6E880",
           "#FF97FF",
           "#FECB52"
          ],
          "font": {
           "color": "#2a3f5f"
          },
          "geo": {
           "bgcolor": "white",
           "lakecolor": "white",
           "landcolor": "#E5ECF6",
           "showlakes": true,
           "showland": true,
           "subunitcolor": "white"
          },
          "hoverlabel": {
           "align": "left"
          },
          "hovermode": "closest",
          "mapbox": {
           "style": "light"
          },
          "paper_bgcolor": "white",
          "plot_bgcolor": "#E5ECF6",
          "polar": {
           "angularaxis": {
            "gridcolor": "white",
            "linecolor": "white",
            "ticks": ""
           },
           "bgcolor": "#E5ECF6",
           "radialaxis": {
            "gridcolor": "white",
            "linecolor": "white",
            "ticks": ""
           }
          },
          "scene": {
           "xaxis": {
            "backgroundcolor": "#E5ECF6",
            "gridcolor": "white",
            "gridwidth": 2,
            "linecolor": "white",
            "showbackground": true,
            "ticks": "",
            "zerolinecolor": "white"
           },
           "yaxis": {
            "backgroundcolor": "#E5ECF6",
            "gridcolor": "white",
            "gridwidth": 2,
            "linecolor": "white",
            "showbackground": true,
            "ticks": "",
            "zerolinecolor": "white"
           },
           "zaxis": {
            "backgroundcolor": "#E5ECF6",
            "gridcolor": "white",
            "gridwidth": 2,
            "linecolor": "white",
            "showbackground": true,
            "ticks": "",
            "zerolinecolor": "white"
           }
          },
          "shapedefaults": {
           "line": {
            "color": "#2a3f5f"
           }
          },
          "ternary": {
           "aaxis": {
            "gridcolor": "white",
            "linecolor": "white",
            "ticks": ""
           },
           "baxis": {
            "gridcolor": "white",
            "linecolor": "white",
            "ticks": ""
           },
           "bgcolor": "#E5ECF6",
           "caxis": {
            "gridcolor": "white",
            "linecolor": "white",
            "ticks": ""
           }
          },
          "title": {
           "x": 0.05
          },
          "xaxis": {
           "automargin": true,
           "gridcolor": "white",
           "linecolor": "white",
           "ticks": "",
           "title": {
            "standoff": 15
           },
           "zerolinecolor": "white",
           "zerolinewidth": 2
          },
          "yaxis": {
           "automargin": true,
           "gridcolor": "white",
           "linecolor": "white",
           "ticks": "",
           "title": {
            "standoff": 15
           },
           "zerolinecolor": "white",
           "zerolinewidth": 2
          }
         }
        }
       }
      }
     },
     "metadata": {},
     "output_type": "display_data"
    }
   ],
   "source": [
    "plot_landmarks(results.pose_world_landmarks[0],  mp_pose.POSE_CONNECTIONS)"
   ]
  },
  {
   "cell_type": "markdown",
   "metadata": {},
   "source": [
    "# Real time 3D visualization with Open3D"
   ]
  },
  {
   "cell_type": "markdown",
   "metadata": {},
   "source": [
    "## Without using 1euro-noise-filtering"
   ]
  },
  {
   "cell_type": "code",
   "execution_count": 23,
   "metadata": {},
   "outputs": [],
   "source": [
    "import open3d as o3d\n",
    "import numpy as np"
   ]
  },
  {
   "cell_type": "code",
   "execution_count": 24,
   "metadata": {},
   "outputs": [],
   "source": [
    "def create_3d_grid(size=1, n=10, color=[0, 0.5, 0.5]):\n",
    "    \"\"\"Create a 3D grid consisting of three planes joined at the origin.\"\"\"\n",
    "    lines = []\n",
    "    points = []\n",
    "    line_color = []\n",
    "\n",
    "    # Create grid along the X-axis\n",
    "    for i in range(-n, n + 1):\n",
    "        y = i * size\n",
    "        start_idx = len(points)\n",
    "        points.append([-n * size, y, 0])\n",
    "        points.append([n * size, y, 0])\n",
    "        lines.append([start_idx, start_idx + 1])\n",
    "        line_color.append(color)\n",
    "\n",
    "    # Create grid along the Y-axis\n",
    "    for i in range(-n, n + 1):\n",
    "        x = i * size\n",
    "        start_idx = len(points)\n",
    "        points.append([x, -n * size, 0])\n",
    "        points.append([x, n * size, 0])\n",
    "        lines.append([start_idx, start_idx + 1])\n",
    "        line_color.append(color)\n",
    "\n",
    "    # Create grid along the Z-axis\n",
    "    for i in range(-n, n + 1):\n",
    "        x = i * size\n",
    "        start_idx = len(points)\n",
    "        points.append([x, 0, -n * size])\n",
    "        points.append([x, 0, n * size])\n",
    "        lines.append([start_idx, start_idx + 1])\n",
    "        line_color.append(color)\n",
    "\n",
    "    # Create a LineSet from the points and lines\n",
    "    grid = o3d.geometry.LineSet()\n",
    "    grid.points = o3d.utility.Vector3dVector(points)\n",
    "    grid.lines = o3d.utility.Vector2iVector(lines)\n",
    "    grid.colors = o3d.utility.Vector3dVector(line_color)\n",
    "\n",
    "    return grid"
   ]
  },
  {
   "cell_type": "code",
   "execution_count": 25,
   "metadata": {},
   "outputs": [],
   "source": [
    "PRESENCE_THRESHOLD = 0.\n",
    "VISIBILITY_THRESHOLD = 0.\n",
    "\n",
    "def plot_landmarks_open3d_real_time(results, connections, vis, grid):\n",
    "    if results == None:\n",
    "        return None\n",
    "    if len(results.pose_world_landmarks) == 0:\n",
    "        return None\n",
    "    if not results.pose_world_landmarks[0]:\n",
    "        return None\n",
    "    \n",
    "    landmark_list = results.pose_world_landmarks[0]\n",
    "    points = []\n",
    "    colors = []\n",
    "    plotted_landmarks = {}\n",
    "    index_mapping = {}\n",
    "    for idx, landmark in enumerate(landmark_list):\n",
    "        if (\n",
    "            landmark.visibility < VISIBILITY_THRESHOLD\n",
    "        ) or (\n",
    "            landmark.presence < PRESENCE_THRESHOLD\n",
    "        ):\n",
    "            continue\n",
    "        new_index = len(points)\n",
    "        index_mapping[idx] = new_index\n",
    "        plotted_landmarks[idx] = (landmark.x, -landmark.y, landmark.z)\n",
    "        points.append((landmark.x, -landmark.y, landmark.z))\n",
    "        colors.append([1, 0, 0])\n",
    "\n",
    "    lines = []    \n",
    "    if connections:\n",
    "        num_landmarks = len(landmark_list)\n",
    "        # Draws the connections if the start and end landmarks are both visible.\n",
    "        for connection in connections:\n",
    "            start_idx = connection[0]\n",
    "            end_idx = connection[1]\n",
    "            if not (0 <= start_idx < num_landmarks and 0 <= end_idx < num_landmarks):\n",
    "                raise ValueError(\n",
    "                    f\"Landmark index is out of range. Invalid connection \"\n",
    "                    f\"from landmark #{start_idx} to landmark #{end_idx}.\"\n",
    "                )\n",
    "            if start_idx in plotted_landmarks and end_idx in plotted_landmarks:\n",
    "                new_start_idx = index_mapping[start_idx]\n",
    "                new_end_idx = index_mapping[end_idx]\n",
    "                lines.append([new_start_idx, new_end_idx])\n",
    "\n",
    "    # Create Open3D structures for visualization\n",
    "    pcd = o3d.geometry.PointCloud()\n",
    "    pcd.points = o3d.utility.Vector3dVector(points)\n",
    "    pcd.colors = o3d.utility.Vector3dVector(colors)\n",
    "    \n",
    "    line_set = o3d.geometry.LineSet()\n",
    "    line_set.points = o3d.utility.Vector3dVector(points)\n",
    "    line_set.lines = o3d.utility.Vector2iVector(lines)\n",
    "    line_set.colors = o3d.utility.Vector3dVector([[0, 0, 0] for _ in lines])  # Black color for lines\n",
    "\n",
    "    vis.clear_geometries()\n",
    "    vis.get_render_option().point_size = 10.0\n",
    "    \n",
    "    vis.add_geometry(pcd)\n",
    "    vis.add_geometry(line_set)\n",
    "    vis.add_geometry(grid)\n",
    "    \n",
    "\n",
    "    return "
   ]
  },
  {
   "cell_type": "code",
   "execution_count": 26,
   "metadata": {},
   "outputs": [
    {
     "name": "stderr",
     "output_type": "stream",
     "text": [
      "I0000 00:00:1715165021.710165       1 gl_context.cc:344] GL version: 2.1 (2.1 Metal - 83.1), renderer: Apple M2\n"
     ]
    },
    {
     "name": "stdout",
     "output_type": "stream",
     "text": [
      "\u001b[1;33m[Open3D WARNING] GLFW Error: Cocoa: Failed to find service port for display\u001b[0;m\n"
     ]
    },
    {
     "ename": "KeyboardInterrupt",
     "evalue": "",
     "output_type": "error",
     "traceback": [
      "\u001b[0;31m---------------------------------------------------------------------------\u001b[0m",
      "\u001b[0;31mKeyboardInterrupt\u001b[0m                         Traceback (most recent call last)",
      "Cell \u001b[0;32mIn[26], line 39\u001b[0m\n\u001b[1;32m     36\u001b[0m cv2\u001b[38;5;241m.\u001b[39mimshow(\u001b[38;5;124m'\u001b[39m\u001b[38;5;124mMediapipe Feed\u001b[39m\u001b[38;5;124m'\u001b[39m, image)\n\u001b[1;32m     38\u001b[0m \u001b[38;5;66;03m#3D animation in open3D\u001b[39;00m\n\u001b[0;32m---> 39\u001b[0m \u001b[43mplot_landmarks_open3d_real_time\u001b[49m\u001b[43m(\u001b[49m\u001b[43mresults\u001b[49m\u001b[43m,\u001b[49m\u001b[43m  \u001b[49m\u001b[43mmp_pose\u001b[49m\u001b[38;5;241;43m.\u001b[39;49m\u001b[43mPOSE_CONNECTIONS\u001b[49m\u001b[43m,\u001b[49m\u001b[43m \u001b[49m\u001b[43mvis\u001b[49m\u001b[43m,\u001b[49m\u001b[43m \u001b[49m\u001b[43mgrid\u001b[49m\u001b[43m)\u001b[49m   \n\u001b[1;32m     41\u001b[0m vis\u001b[38;5;241m.\u001b[39mpoll_events()\n\u001b[1;32m     42\u001b[0m vis\u001b[38;5;241m.\u001b[39mupdate_renderer()  \n",
      "Cell \u001b[0;32mIn[25], line 60\u001b[0m, in \u001b[0;36mplot_landmarks_open3d_real_time\u001b[0;34m(results, connections, vis, grid)\u001b[0m\n\u001b[1;32m     57\u001b[0m vis\u001b[38;5;241m.\u001b[39mclear_geometries()\n\u001b[1;32m     58\u001b[0m vis\u001b[38;5;241m.\u001b[39mget_render_option()\u001b[38;5;241m.\u001b[39mpoint_size \u001b[38;5;241m=\u001b[39m \u001b[38;5;241m10.0\u001b[39m\n\u001b[0;32m---> 60\u001b[0m \u001b[43mvis\u001b[49m\u001b[38;5;241;43m.\u001b[39;49m\u001b[43madd_geometry\u001b[49m\u001b[43m(\u001b[49m\u001b[43mpcd\u001b[49m\u001b[43m)\u001b[49m\n\u001b[1;32m     61\u001b[0m vis\u001b[38;5;241m.\u001b[39madd_geometry(line_set)\n\u001b[1;32m     62\u001b[0m vis\u001b[38;5;241m.\u001b[39madd_geometry(grid)\n",
      "\u001b[0;31mKeyboardInterrupt\u001b[0m: "
     ]
    }
   ],
   "source": [
    "BaseOptions = mp.tasks.BaseOptions\n",
    "PoseLandmarker = mp.tasks.vision.PoseLandmarker\n",
    "PoseLandmarkerOptions = mp.tasks.vision.PoseLandmarkerOptions\n",
    "VisionRunningMode = mp.tasks.vision.RunningMode\n",
    "\n",
    "options = PoseLandmarkerOptions(\n",
    "    base_options=BaseOptions(model_asset_path=model_path),\n",
    "    running_mode=VisionRunningMode.IMAGE)\n",
    "\n",
    "cap = cv2.VideoCapture(\"images_and_videos/from_side.mp4\")\n",
    "with PoseLandmarker.create_from_options(options) as pose:\n",
    "    vis = o3d.visualization.Visualizer()\n",
    "    vis.create_window()\n",
    "    \n",
    "    grid = create_3d_grid(size=0.1, n=10, color=[0, 0.5, 0.5])\n",
    "\n",
    "    while cap.isOpened():\n",
    "        ret, frame = cap.read()\n",
    "        frame = cv2.flip(frame, 1)\n",
    "        # Recolor image to RGB\n",
    "        image = cv2.cvtColor(frame, cv2.COLOR_BGR2RGB)\n",
    "        image.flags.writeable = False\n",
    "      \n",
    "        # Make detection\n",
    "        mp_image = mp.Image(image_format=mp.ImageFormat.SRGB, data=image)\n",
    "        results = pose.detect(mp_image)\n",
    "        \n",
    "\n",
    "        # Recolor back to BGR\n",
    "        image.flags.writeable = True\n",
    "    \n",
    "        \n",
    "        annotated_image = draw_landmarks_on_image(image, results)\n",
    "        image = cv2.cvtColor(annotated_image, cv2.COLOR_RGB2BGR)\n",
    "        \n",
    "        cv2.imshow('Mediapipe Feed', image)\n",
    "        \n",
    "        #3D animation in open3D\n",
    "        plot_landmarks_open3d_real_time(results,  mp_pose.POSE_CONNECTIONS, vis, grid)   \n",
    "        \n",
    "        vis.poll_events()\n",
    "        vis.update_renderer()  \n",
    "\n",
    "        if cv2.waitKey(10) & 0xFF == ord('q'):\n",
    "            break\n",
    "\n",
    "    cap.release()\n",
    "    cv2.destroyAllWindows()\n",
    "    cv2.waitKey(1)"
   ]
  },
  {
   "cell_type": "markdown",
   "metadata": {},
   "source": [
    "## Using 1euro-noise-filtering"
   ]
  },
  {
   "cell_type": "code",
   "execution_count": 11,
   "metadata": {},
   "outputs": [
    {
     "name": "stderr",
     "output_type": "stream",
     "text": [
      "I0000 00:00:1715164989.858173       1 gl_context.cc:344] GL version: 2.1 (2.1 Metal - 83.1), renderer: Apple M2\n"
     ]
    },
    {
     "name": "stdout",
     "output_type": "stream",
     "text": [
      "\u001b[1;33m[Open3D WARNING] GLFW Error: Cocoa: Failed to find service port for display\u001b[0;m\n"
     ]
    },
    {
     "ename": "NameError",
     "evalue": "name 'OneEuroFilter' is not defined",
     "output_type": "error",
     "traceback": [
      "\u001b[0;31m---------------------------------------------------------------------------\u001b[0m",
      "\u001b[0;31mNameError\u001b[0m                                 Traceback (most recent call last)",
      "Cell \u001b[0;32mIn[11], line 37\u001b[0m\n\u001b[1;32m     35\u001b[0m     min_cutoff \u001b[38;5;241m=\u001b[39m \u001b[38;5;241m1\u001b[39m\n\u001b[1;32m     36\u001b[0m     beta \u001b[38;5;241m=\u001b[39m \u001b[38;5;241m0\u001b[39m\n\u001b[0;32m---> 37\u001b[0m     one_euro_filter \u001b[38;5;241m=\u001b[39m \u001b[43mOneEuroFilter\u001b[49m(\n\u001b[1;32m     38\u001b[0m         coords,\n\u001b[1;32m     39\u001b[0m         min_cutoff\u001b[38;5;241m=\u001b[39mmin_cutoff,\n\u001b[1;32m     40\u001b[0m         beta\u001b[38;5;241m=\u001b[39mbeta)\n\u001b[1;32m     41\u001b[0m     init \u001b[38;5;241m=\u001b[39m \u001b[38;5;28;01mFalse\u001b[39;00m\n\u001b[1;32m     42\u001b[0m \u001b[38;5;28;01melse\u001b[39;00m:\n",
      "\u001b[0;31mNameError\u001b[0m: name 'OneEuroFilter' is not defined"
     ]
    }
   ],
   "source": [
    "BaseOptions = mp.tasks.BaseOptions\n",
    "PoseLandmarker = mp.tasks.vision.PoseLandmarker\n",
    "PoseLandmarkerOptions = mp.tasks.vision.PoseLandmarkerOptions\n",
    "VisionRunningMode = mp.tasks.vision.RunningMode\n",
    "\n",
    "options = PoseLandmarkerOptions(\n",
    "    base_options=BaseOptions(model_asset_path=model_path),\n",
    "    running_mode=VisionRunningMode.IMAGE)\n",
    "\n",
    "cap = cv2.VideoCapture(\"images_and_videos/from_side.mp4\")\n",
    "with PoseLandmarker.create_from_options(options) as pose:\n",
    "    vis = o3d.visualization.Visualizer()\n",
    "    vis.create_window()\n",
    "    \n",
    "    grid = create_3d_grid(size=0.1, n=10, color=[0, 0.5, 0.5])\n",
    "    init = True\n",
    "    while cap.isOpened():\n",
    "        ret, frame = cap.read()\n",
    "        frame = cv2.flip(frame, 1)\n",
    "        # Recolor image to RGB\n",
    "        image = cv2.cvtColor(frame, cv2.COLOR_BGR2RGB)\n",
    "        image.flags.writeable = False\n",
    "      \n",
    "        # Make detection\n",
    "        mp_image = mp.Image(image_format=mp.ImageFormat.SRGB, data=image)\n",
    "        results = pose.detect(mp_image)\n",
    "\n",
    "        #1euro-noise-filter\n",
    "        if len(results.pose_landmarks) != 0:\n",
    "            coords = np.array([[joint.x, joint.y, joint.z] for joint in results.pose_landmarks[0]])\n",
    "            if init == True:\n",
    "                coords_hat = coords.copy()\n",
    "                \n",
    "                # The filtered signal\n",
    "                min_cutoff = 1\n",
    "                beta = 0\n",
    "                one_euro_filter = OneEuroFilter(\n",
    "                    coords,\n",
    "                    min_cutoff=min_cutoff,\n",
    "                    beta=beta)\n",
    "                init = False\n",
    "            else:\n",
    "                coords_hat = one_euro_filter(coords)\n",
    "                \n",
    "            for i in range(coords.shape[0]):\n",
    "                results.pose_landmarks[0][i].x = coords_hat[i][0]\n",
    "                results.pose_landmarks[0][i].y = coords_hat[i][1]\n",
    "                results.pose_landmarks[0][i].z = coords_hat[i][2]\n",
    "        \n",
    "        # Recolor back to BGR\n",
    "        image.flags.writeable = True\n",
    "    \n",
    "        \n",
    "        annotated_image = draw_landmarks_on_image(image, results)\n",
    "        image = cv2.cvtColor(annotated_image, cv2.COLOR_RGB2BGR)\n",
    "        \n",
    "        cv2.imshow('Mediapipe Feed', image)\n",
    "        \n",
    "        #3D animation in open3D\n",
    "        plot_landmarks_open3d_real_time(results,  mp_pose.POSE_CONNECTIONS, vis, grid)   \n",
    "        \n",
    "        vis.poll_events()\n",
    "        vis.update_renderer()  \n",
    "\n",
    "        if cv2.waitKey(10) & 0xFF == ord('q'):\n",
    "            break\n",
    "\n",
    "    cap.release()\n",
    "    cv2.destroyAllWindows()\n",
    "    cv2.waitKey(1)"
   ]
  },
  {
   "cell_type": "code",
   "execution_count": null,
   "metadata": {},
   "outputs": [],
   "source": []
  }
 ],
 "metadata": {
  "kernelspec": {
   "display_name": "tensorflow",
   "language": "python",
   "name": "python3"
  },
  "language_info": {
   "codemirror_mode": {
    "name": "ipython",
    "version": 3
   },
   "file_extension": ".py",
   "mimetype": "text/x-python",
   "name": "python",
   "nbconvert_exporter": "python",
   "pygments_lexer": "ipython3",
   "version": "3.11.5"
  }
 },
 "nbformat": 4,
 "nbformat_minor": 2
}
